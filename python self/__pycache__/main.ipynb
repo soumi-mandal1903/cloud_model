{
 "cells": [
  {
   "cell_type": "code",
   "execution_count": 1,
   "id": "341132a8",
   "metadata": {},
   "outputs": [
    {
     "ename": "ModuleNotFoundError",
     "evalue": "No module named 'numpy'",
     "output_type": "error",
     "traceback": [
      "\u001b[31m---------------------------------------------------------------------------\u001b[39m",
      "\u001b[31mModuleNotFoundError\u001b[39m                       Traceback (most recent call last)",
      "\u001b[36mCell\u001b[39m\u001b[36m \u001b[39m\u001b[32mIn[1]\u001b[39m\u001b[32m, line 2\u001b[39m\n\u001b[32m      1\u001b[39m \u001b[38;5;66;03m# main.py\u001b[39;00m\n\u001b[32m----> \u001b[39m\u001b[32m2\u001b[39m \u001b[38;5;28;01mimport\u001b[39;00m\u001b[38;5;250m \u001b[39m\u001b[34;01mnumpy\u001b[39;00m\u001b[38;5;250m \u001b[39m\u001b[38;5;28;01mas\u001b[39;00m\u001b[38;5;250m \u001b[39m\u001b[34;01mnp\u001b[39;00m\n\u001b[32m      3\u001b[39m \u001b[38;5;28;01mimport\u001b[39;00m\u001b[38;5;250m \u001b[39m\u001b[34;01mmatplotlib\u001b[39;00m\u001b[34;01m.\u001b[39;00m\u001b[34;01mpyplot\u001b[39;00m\u001b[38;5;250m \u001b[39m\u001b[38;5;28;01mas\u001b[39;00m\u001b[38;5;250m \u001b[39m\u001b[34;01mplt\u001b[39;00m\n\u001b[32m      4\u001b[39m \u001b[38;5;28;01mfrom\u001b[39;00m\u001b[38;5;250m \u001b[39m\u001b[34;01mread_voyager\u001b[39;00m\u001b[38;5;250m \u001b[39m\u001b[38;5;28;01mimport\u001b[39;00m read_voyager\n",
      "\u001b[31mModuleNotFoundError\u001b[39m: No module named 'numpy'"
     ]
    }
   ],
   "source": [
    "# main.py\n",
    "import numpy as np\n",
    "import matplotlib.pyplot as plt\n",
    "from read_voyager import read_voyager\n",
    "from eddysed import eddysed\n",
    "\n",
    "def main():\n",
    "    # ---- Read Voyager input profile ----\n",
    "    fname = \"/home/sansar1/Codes/cloud_model/voyager.input\"\n",
    "    p, t, dz, grav, teff, nz, z, chf = read_voyager(fname)\n",
    "\n",
    "    # ---- Model parameters ----\n",
    "    mw_atmos = 2.2        # mean molecular weight of H2-He atmosphere [g/mol]\n",
    "    mw_cloud = 17.0       # NH3 [g/mol]\n",
    "    rho_p = 0.9           # particle density [g/cm^3]\n",
    "    rainf = 3.0           # sedimentation efficiency factor\n",
    "    supsat = 0.0          # assume no supersaturation\n",
    "    sig_layer = 2.0       # width of size distribution\n",
    "    mixl_min = 1e4        # minimum mixing length [cm]\n",
    "    cloudf_min = 0.05     # minimum cloud fraction\n",
    "    q_init = 1e-6         # initial vapor mixing ratio at base (g/g)\n",
    "\n",
    "    # ---- Run eddysed ----\n",
    "    qc, qt, ndz, rg, reff, cloudf = eddysed(\n",
    "        p=p, t=t, dz=dz,\n",
    "        grav=grav, mw_atmos=mw_atmos, teff=teff,\n",
    "        mixl_min=mixl_min, cloudf_min=cloudf_min,\n",
    "        mw_cloud=mw_cloud, rainf=rainf,\n",
    "        rho_p=rho_p, supsat=supsat, sig_layer=sig_layer,\n",
    "        q_init=q_init, nsub_max=8, delta=1e-8\n",
    "    )\n",
    "\n",
    "    # ---- Convert units ----\n",
    "    p_bar = p * 1e-6            # dyne/cm^2 → bar\n",
    "    qc = np.clip(qc, 1e-30, None)  # avoid log(0)\n",
    "    log_qc = np.log10(qc)\n",
    "\n",
    "    # ---- Plot ----\n",
    "    plt.figure(figsize=(6, 8))\n",
    "    plt.plot(log_qc, p_bar, marker=\"o\", linestyle=\"-\", markersize=4)\n",
    "    plt.gca().invert_yaxis()\n",
    "    plt.yscale(\"log\")\n",
    "    plt.xlabel(\"log10(qc) [g/g]\")\n",
    "    plt.ylabel(\"Pressure [bar]\")\n",
    "    plt.title(\"Voyager Profile — NH3 Cloud (EddySed)\")\n",
    "    plt.grid(True)\n",
    "    plt.tight_layout()\n",
    "    plt.savefig(\"cloud_profile.png\", dpi=200)\n",
    "    print(\"Saved figure to cloud_profile.png\")\n",
    "    plt.show()\n",
    "\n",
    "if __name__ == \"__main__\":\n",
    "    main()\n"
   ]
  },
  {
   "cell_type": "code",
   "execution_count": 2,
   "id": "f00d5e50",
   "metadata": {},
   "outputs": [
    {
     "name": "stderr",
     "output_type": "stream",
     "text": [
      "'pip' is not recognized as an internal or external command,\n",
      "operable program or batch file.\n"
     ]
    }
   ],
   "source": [
    "!pip install numpy matplotlib"
   ]
  },
  {
   "cell_type": "code",
   "execution_count": null,
   "id": "61011132",
   "metadata": {},
   "outputs": [],
   "source": []
  }
 ],
 "metadata": {
  "kernelspec": {
   "display_name": "Python 3",
   "language": "python",
   "name": "python3"
  },
  "language_info": {
   "codemirror_mode": {
    "name": "ipython",
    "version": 3
   },
   "file_extension": ".py",
   "mimetype": "text/x-python",
   "name": "python",
   "nbconvert_exporter": "python",
   "pygments_lexer": "ipython3",
   "version": "3.12.5"
  }
 },
 "nbformat": 4,
 "nbformat_minor": 5
}
