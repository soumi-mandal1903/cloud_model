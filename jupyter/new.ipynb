{
 "cells": [
  {
   "cell_type": "code",
   "execution_count": 2,
   "id": "93c7469a",
   "metadata": {},
   "outputs": [],
   "source": [
    "import numpy as np\n",
    "import matplotlib.pyplot as plt\n",
    "import pandas as pd\n",
    "import math"
   ]
  },
  {
   "cell_type": "code",
   "execution_count": 3,
   "id": "e8747dbe",
   "metadata": {},
   "outputs": [],
   "source": [
    "def input_reader(input_file):\n",
    "    input_data = []\n",
    "    with open(input_file, \"r\") as f:\n",
    "        lines = f.readlines()\n",
    "        T_eff = float(lines[0])\n",
    "        gravity = float(lines[1])\n",
    "        num_layers = int(lines[2])\n",
    "        for line in lines[4:]:\n",
    "            parts = line.strip().split()\n",
    "            input_data.append([float(x.replace(\"E\", \"e\")) for x in parts])\n",
    "        return T_eff, gravity, num_layers, np.array(input_data)\n",
    "\n",
    "T_eff, gravity, num_layers, input_data = input_reader(\"/home/sansar1/Codes/cloud_model/input/profiles/voyager.input\")\n",
    "input_data = input_data[input_data[:,1].argsort()]\n",
    "# print(input_data)\n",
    "# print(input_data.shape)\n"
   ]
  },
  {
   "cell_type": "code",
   "execution_count": 4,
   "id": "c1fa592a",
   "metadata": {},
   "outputs": [],
   "source": [
    "def pvap_nh3(t):\n",
    "    pvap = math.exp(-86596.0 / t**2 - 2161.0 / t + 10.53)\n",
    "    # pvap *= 10**6  # convert from bars to dyne/cm^2\n",
    "    return pvap\n",
    "\n",
    "R_GAS = 8.314462618e7\n",
    "PI = math.pi\n"
   ]
  },
  {
   "cell_type": "code",
   "execution_count": 5,
   "id": "29beadc5",
   "metadata": {},
   "outputs": [
    {
     "name": "stdout",
     "output_type": "stream",
     "text": [
      "127.2 0.39811 -4.056696272290015\n",
      "51 0.0002318181818181818\n",
      "[127.2       0.39811]\n"
     ]
    }
   ],
   "source": [
    "def cloud_base(data):\n",
    "    for i in range(len(data)-1, -1, -1):\n",
    "        T, P = data[i]\n",
    "        pvap = pvap_nh3(T)\n",
    "        qt = 3*(10**(-5))*17/2.2\n",
    "        qv = (17/2.2)*pvap/P\n",
    "        if qt > qv:\n",
    "            q_below = qt\n",
    "            print(T, P, np.log10(qt-qv))\n",
    "            return i, q_below\n",
    "\n",
    "base, q_below = cloud_base(input_data)\n",
    "print(base, q_below)\n",
    "print(input_data[base])"
   ]
  },
  {
   "cell_type": "code",
   "execution_count": 29,
   "id": "aa6592c4",
   "metadata": {},
   "outputs": [],
   "source": [
    "def read_voyager(teff, grav, nzp1, t_edge, p_edge):\n",
    "    \"\"\"\n",
    "    Calculate atmospheric profiles for Galileo probe sounding.\n",
    "    Arguments:\n",
    "        teff: effective temperature (K)\n",
    "        grav: gravitational acceleration (cm/s^2)\n",
    "        nzp1: number of layer edges\n",
    "        t_edge: array of temperatures at layer edges (K), length nzp1\n",
    "        p_edge: array of pressures at layer edges (bars), length nzp1\n",
    "    Returns:\n",
    "        nz: number of layers\n",
    "        z: altitudes at layer midpoints (cm), length nz\n",
    "        z_edge: altitudes at layer edges (cm), length nzp1\n",
    "        p: pressures at layer midpoints (bars), length nz\n",
    "        t: temperatures at layer midpoints (K), length nz\n",
    "        chf: convective heat flux (erg/cm^2/s), length nz\n",
    "        mixl: mixing length (cm), length nz\n",
    "    \"\"\"\n",
    "    r_atmos = 8.3143e7 / 2.2\n",
    "    STEFBOLTZ = 5.67051e-5\n",
    "\n",
    "    \n",
    "    p_edge = np.array(p_edge)\n",
    "    t_edge = np.array(t_edge)\n",
    "    nz = nzp1 - 1\n",
    "\n",
    "    z = np.zeros(nz)\n",
    "    z_edge = np.zeros(nzp1)\n",
    "    p = np.zeros(nz)\n",
    "    t = np.zeros(nz)\n",
    "    chf = np.zeros(nz)\n",
    "    mixl = np.zeros(nz)\n",
    "\n",
    "    z_edge[nz] = 0.0\n",
    "\n",
    "    for iz in range(nz - 1, -1, -1):\n",
    "        itop = iz\n",
    "        ibot = iz + 1\n",
    "        dlnp = np.log(p_edge[ibot] / p_edge[itop])\n",
    "        p[iz] = 0.5 * (p_edge[itop] + p_edge[ibot])\n",
    "        scale_h = r_atmos * t_edge[ibot] / grav\n",
    "        dz_layer = scale_h * dlnp\n",
    "        z_edge[iz] = z_edge[ibot] + dz_layer\n",
    "        dtdz = (t_edge[itop] - t_edge[ibot]) / dz_layer\n",
    "        dz_pmid = scale_h * np.log(p_edge[ibot] / p[iz])\n",
    "        z[iz] = z_edge[ibot] + dz_pmid\n",
    "        t[iz] = t_edge[ibot] + dtdz * dz_pmid\n",
    "        lapse_ratio = (t_edge[ibot] - t_edge[itop]) / dlnp / (2. / 7. * t[iz])\n",
    "        mixl[iz] = max(0.1, lapse_ratio) * scale_h\n",
    "\n",
    "    for iz in range(nz):\n",
    "        chf[iz] = STEFBOLTZ * teff ** 4\n",
    "\n",
    "    return nz, z, z_edge, p, t, chf, mixl\n",
    "read_voyager\n",
    "nz, z, z_edge, p, t, chf, mixl = read_voyager(T_eff, gravity, num_layers, input_data[:,0], input_data[:,1])"
   ]
  },
  {
   "cell_type": "code",
   "execution_count": 23,
   "id": "7cace363",
   "metadata": {},
   "outputs": [],
   "source": [
    "def layer(teff, grav, nzp1, nsub, t_edge, p_edge):\n",
    "    \"\"\"\n",
    "    Calculate atmospheric profiles for Galileo probe sounding.\n",
    "    Arguments:\n",
    "        teff: effective temperature (K)\n",
    "        grav: gravitational acceleration (cm/s^2)\n",
    "        nzp1: number of layer edges\n",
    "        nsub: number of sublayers\n",
    "        t_edge: array of temperatures at layer edges (K), length nzp1\n",
    "        p_edge: array of pressures at layer edges (bars), length nzp1\n",
    "    Returns:\n",
    "        nz: number of layers\n",
    "        nzsub: total number of sublayers\n",
    "        z: altitudes at layer midpoints (cm), length nzsub\n",
    "        z_edge: altitudes at layer edges (cm), length nzsub+1\n",
    "        p: pressures at layer midpoints (bars), length nzsub\n",
    "        t: temperatures at layer midpoints (K), length nzsub\n",
    "        chf: convective heat flux (erg/cm^2/s), length nzsub\n",
    "        mixl: mixing length (cm), length nzsub\n",
    "    \"\"\"\n",
    "    r_atmos = 8.3143e7 / 2.2\n",
    "    STEFBOLTZ = 5.67051e-5\n",
    "\n",
    "    \n",
    "    p_edge = np.array(p_edge)\n",
    "    t_edge = np.array(t_edge)\n",
    "    nz = nzp1 - 1\n",
    "    nzsub = nz*nsub\n",
    "\n",
    "    z = np.zeros(nzsub)\n",
    "    z_edge = np.zeros(nzsub+1)\n",
    "    p = np.zeros(nzsub)\n",
    "    t = np.zeros(nzsub)\n",
    "    chf = np.zeros(nzsub)\n",
    "    mixl = np.zeros(nzsub)\n",
    "\n",
    "    z_edge[nzsub] = 0.0\n",
    "\n",
    "    for iz in range(nz - 1, -1, -1):\n",
    "        itop = iz\n",
    "        ibot = iz + 1\n",
    "        p_top, p_bot = p_edge[itop], p_edge[ibot]\n",
    "        t_top, t_bot = t_edge[itop], t_edge[ibot]\n",
    "        dp_layer = p_bot - p_top\n",
    "        dlnp = np.log(p_bot/p_top)\n",
    "        dtdlnp = ( t_top - t_bot ) / dlnp\n",
    "        dp_sub = dp_layer/nsub\n",
    "        scale_h = r_atmos * t_edge[ibot] / grav\n",
    "        p_sub_bot = p_bot\n",
    "        z_edge_sub_bot = z_edge[ibot]\n",
    "        t_sub_bot = t_bot\n",
    "\n",
    "        for i in range(nsub-1, -1, -1):\n",
    "            p_sub_top = p_sub_bot - dp_sub\n",
    "            t_sub_top = t_sub_bot + np.log(p_sub_bot/p_sub_top)*dtdlnp\n",
    "            dz_sub = scale_h * np.log(p_sub_bot/p_sub_top)\n",
    "            p_sub = 0.5*(p_sub_bot+p_sub_top)\n",
    "            t_sub = t_sub_bot + np.log(p_sub_bot/p_sub)*dtdlnp\n",
    "            p[iz*nsub+i] = p_sub\n",
    "            t[iz*nsub+i] = t_sub\n",
    "            z_edge_sub_top = z_edge_sub_bot + dz_sub\n",
    "            z_edge[iz*nsub+i] = z_edge_sub_top\n",
    "            z[iz*nsub+i] = z_edge_sub_bot + scale_h*np.log(p_sub_bot/p_sub)\n",
    "            lapse_ratio = (t_sub_bot - t_sub_top)/ np.log(p_sub_bot/p_sub_top) / (2/7 * t_sub)\n",
    "            mixl[iz*nsub+i] = max(0.1, lapse_ratio) * scale_h\n",
    "\n",
    "            p_sub_bot = p_sub_top\n",
    "            t_sub_bot = t_sub_top\n",
    "            z_edge_sub_bot = z_edge_sub_top\n",
    "\n",
    "    for iz in range(nz):\n",
    "        chf[iz] = STEFBOLTZ * teff ** 4\n",
    "\n",
    "    return nz, nzsub, z, z_edge, p, t, chf, mixl\n",
    "\n",
    "nz, nzsub, z, z_edge, p, t, chf, mixl = layer(T_eff, gravity, num_layers, 4, input_data[:,0], input_data[:,1])\n"
   ]
  },
  {
   "cell_type": "code",
   "execution_count": null,
   "id": "6d24c63e",
   "metadata": {},
   "outputs": [],
   "source": [
    "## Analytical Method\n",
    "\n",
    "# f_rain = 1\n",
    "# output = []\n",
    "# for i in range(nz-1, -1, -1):\n",
    "#     if p[i] <= 0.4224:\n",
    "#         if len(output) == 0:\n",
    "#             T_mid, P_mid, z_mid = t[i], p[i], z[i]\n",
    "#             pvap = pvap_nh3(T_mid)\n",
    "#             rho_atmos = P_mid/(R_GAS/2.2 * T_mid)\n",
    "#             qv = pvap / ( (R_GAS/17) * T_mid ) / rho_atmos\n",
    "#             qt = 3*(10**(-5))*(17/2.2)\n",
    "#             output.append([T_mid, P_mid, qv, qt, qt-qv, z_mid])\n",
    "#         else:\n",
    "#             T_mid_prev, P_mid_prev, qv_prev, qt_prev, qc_prev, z_mid_prev = output[-1]\n",
    "#             T_mid, P_mid, z_mid = t[i], p[i], z[i]\n",
    "#             pvap = pvap_nh3(T_mid)\n",
    "#             rho_atmos = P_mid/(R_GAS/2.2 * T_mid)\n",
    "#             qv = pvap / ( (R_GAS/17) * T_mid ) / rho_atmos\n",
    "#             qt = qv + (qc_prev)*np.exp(-(z_mid-z_mid_prev)*f_rain/mixl[i])\n",
    "#             output.append([T_mid, P_mid, qv, qt, qt-qv, z_mid])\n",
    "# output = np.array(output)"
   ]
  },
  {
   "cell_type": "code",
   "execution_count": null,
   "id": "69134e4c",
   "metadata": {},
   "outputs": [],
   "source": [
    "## Numerical method\n",
    "\n",
    "f_rain = 1\n",
    "output = []\n",
    "for i in range(nz-1, -1, -1): # nz for read_voyager and nzsub for layer\n",
    "    if p[i] <= 0.4224:\n",
    "        if len(output) == 0:\n",
    "            T_mid, P_mid, z_mid = t[i], p[i], z[i]\n",
    "            pvap = pvap_nh3(T_mid)\n",
    "            rho_atmos = P_mid/(R_GAS/2.2 * T_mid)\n",
    "            qv = pvap / ((R_GAS/17)*T_mid) / rho_atmos\n",
    "            qt = 3*(10**(-5))*(17/2.2)\n",
    "            output.append([T_mid, P_mid, qv, qt, qt-qv, z_mid])\n",
    "        else:\n",
    "            T_mid_prev, P_mid_prev, qv_prev, qt_prev, qc_prev, z_mid_prev = output[-1]\n",
    "            T_mid, P_mid, z_mid = t[i], p[i], z[i]\n",
    "            pvap = pvap_nh3(T_mid)\n",
    "            rho_atmos = P_mid/(R_GAS/2.2 * T_mid)\n",
    "            qv = pvap / ( (R_GAS/17) * T_mid ) / rho_atmos\n",
    "            dqt = - f_rain * qc_prev * (z_mid - z_mid_prev) / mixl[i]\n",
    "            qt = qt_prev + dqt\n",
    "            output.append([T_mid, P_mid, qv, qt, qt-qv, z_mid])\n",
    "output = np.array(output)"
   ]
  },
  {
   "cell_type": "code",
   "execution_count": 20,
   "id": "dd363694",
   "metadata": {},
   "outputs": [
    {
     "name": "stdout",
     "output_type": "stream",
     "text": [
      "(312,)\n"
     ]
    }
   ],
   "source": [
    "# Read voyager_frain1_sig2.out\n",
    "file = \"/home/sansar1/Codes/cloud_model/output/voyager_frain1_sig2.out\"\n",
    "voyager = []\n",
    "with open(file, \"r\") as f:\n",
    "    lines = f.readlines()\n",
    "    for line in lines[3:]:\n",
    "        parts = line.strip().split()\n",
    "        voyager.append([float(x.replace(\"E\", \"e\")) for x in parts])\n",
    "voyager = np.array(voyager)\n",
    "\n",
    "print(voyager[:,4].shape)"
   ]
  },
  {
   "cell_type": "code",
   "execution_count": 31,
   "id": "9416df85",
   "metadata": {},
   "outputs": [
    {
     "name": "stderr",
     "output_type": "stream",
     "text": [
      "/tmp/ipykernel_4552/1224275322.py:4: RuntimeWarning: invalid value encountered in log10\n",
      "  plt.plot(np.log10(qc), P, marker='o')\n",
      "/tmp/ipykernel_4552/1224275322.py:5: RuntimeWarning: divide by zero encountered in log10\n",
      "  plt.plot(np.log10(voyager[:,4]), voyager[:,1]*(10**(-6)), marker='o')\n"
     ]
    },
    {
     "data": {
      "image/png": "[encoded data removed]",
      "text/plain": [
       "<Figure size 600x800 with 1 Axes>"
      ]
     },
     "metadata": {},
     "output_type": "display_data"
    }
   ],
   "source": [
    "qc = output[:,4]\n",
    "P = output[:,1]\n",
    "plt.figure(figsize=(6, 8))\n",
    "plt.plot(np.log10(qc), P, marker='o')\n",
    "plt.plot(np.log10(voyager[:,4]), voyager[:,1]*(10**(-6)), marker='o')\n",
    "\n",
    "plt.gca().invert_yaxis()  # invert pressure axis\n",
    "plt.xlabel(\"log10(q_c)\")\n",
    "plt.ylabel(\"Pressure (bar)\")  # assuming pressure in bar (confirm units)\n",
    "plt.title(\"Pressure vs log(q_c)\")\n",
    "plt.grid(True)\n",
    "plt.tight_layout()\n",
    "plt.show()"
   ]
  },
  {
   "cell_type": "code",
   "execution_count": 9,
   "id": "5e30f55a",
   "metadata": {},
   "outputs": [
    {
     "name": "stdout",
     "output_type": "stream",
     "text": [
      "[ -4.34884909  -4.4103026   -4.48890161  -4.60663812  -4.70011113\n",
      "  -4.81395333  -4.9329453   -5.08964683  -5.24444858  -5.47465461\n",
      "  -5.97656824  -6.47539161  -6.97193241  -7.23802345  -7.74053975\n",
      "  -8.24069367  -8.73790297  -9.23429906  -9.50455747  -9.96944366\n",
      " -10.12661634 -10.24195075 -10.74634305 -11.24585797 -11.73702106\n",
      " -12.2351252  -12.72517468 -13.22011655 -13.71446484 -14.21348744\n",
      " -14.71077689 -15.19966836 -15.6815885  -16.25561977         -inf\n",
      "         -inf         -inf         -inf         -inf         -inf\n",
      "         -inf         -inf         -inf         -inf         -inf\n",
      "         -inf         -inf         -inf         -inf         -inf\n",
      "         -inf         -inf]\n"
     ]
    },
    {
     "name": "stderr",
     "output_type": "stream",
     "text": [
      "/tmp/ipykernel_4975/677607085.py:1: RuntimeWarning: divide by zero encountered in log10\n",
      "  print(np.log10(qc))\n"
     ]
    }
   ],
   "source": [
    "print(np.log10(qc))"
   ]
  }
 ],
 "metadata": {
  "kernelspec": {
   "display_name": "base",
   "language": "python",
   "name": "python3"
  },
  "language_info": {
   "codemirror_mode": {
    "name": "ipython",
    "version": 3
   },
   "file_extension": ".py",
   "mimetype": "text/x-python",
   "name": "python",
   "nbconvert_exporter": "python",
   "pygments_lexer": "ipython3",
   "version": "3.13.2"
  }
 },
 "nbformat": 4,
 "nbformat_minor": 5
}
